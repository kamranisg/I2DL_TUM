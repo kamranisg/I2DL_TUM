{
 "cells": [
  {
   "cell_type": "markdown",
   "metadata": {},
   "source": [
    "# Cifar10 Classification"
   ]
  },
  {
   "cell_type": "markdown",
   "metadata": {},
   "source": [
    "Until now, we have implemented several pieces of a deep learning pipeline and even trained a two-layer neural network, but all the hyperparameters were already set to some values yielding resonable results. In real-life problems, however, much of the work in a deep learning project will be geared towards finding the best hyperparameters for a certain problem. In this notebook we will explore some good practices for network debugging and hyperparameters search, as well as extending our previously binary classification neural network to a multi-class one.\n",
    "\n",
    "Let's go!"
   ]
  },
  {
   "cell_type": "code",
   "execution_count": 2,
   "metadata": {},
   "outputs": [],
   "source": [
    "# Some lengthy setup.\n",
    "import matplotlib.pyplot as plt\n",
    "import numpy as np\n",
    "import os\n",
    "\n",
    "from exercise_code.networks.layer import (\n",
    "    Sigmoid, \n",
    "    Relu, \n",
    "    LeakyRelu, \n",
    "    Tanh,\n",
    ")\n",
    "from exercise_code.data import (\n",
    "    DataLoader,\n",
    "    ImageFolderDataset,\n",
    "    RescaleTransform,\n",
    "    NormalizeTransform,\n",
    "    FlattenTransform,\n",
    "    ComposeTransform,\n",
    ")\n",
    "from exercise_code.networks import (\n",
    "    ClassificationNet,\n",
    "    BCE,\n",
    "    CrossEntropyFromLogits\n",
    ")\n",
    "\n",
    "%load_ext autoreload\n",
    "%autoreload 2\n",
    "%matplotlib inline\n",
    "\n",
    "plt.rcParams['figure.figsize'] = (10.0, 8.0) # set default size of plots\n",
    "plt.rcParams['image.interpolation'] = 'nearest'\n",
    "plt.rcParams['image.cmap'] = 'gray'"
   ]
  },
  {
   "cell_type": "markdown",
   "metadata": {},
   "source": [
    "# 1. Quick recap (and some new things)"
   ]
  },
  {
   "cell_type": "markdown",
   "metadata": {},
   "source": [
    "Until now, in the previous exercises, we focused on building and understanding all the necessary modules for training a simple model. We followed the Pytorch implementations closely, as this is the framework we will use later and we want you to have a smoother transition to its APIs. \n",
    "\n",
    "In the figure below you can see the main components in Pytorch. Before starting the actual exercise, we begin with a quick recap of **our implementation** of these components. \n",
    "\n",
    "Everything is already implemented for this part, but we **strongly** encourage you to check out the respective source files in order to have a better understanding."
   ]
  },
  {
   "cell_type": "markdown",
   "metadata": {},
   "source": [
    "<img src=\"https://cdn-images-1.medium.com/max/800/1*uZrS4KjAuSJQIJPgOiaJUg.png\" style=\"width: 500px;\">"
   ]
  },
  {
   "cell_type": "markdown",
   "metadata": {},
   "source": [
    "## 1.1 Dataset and Dataloader"
   ]
  },
  {
   "cell_type": "markdown",
   "metadata": {},
   "source": [
    "Data preparation represents an important part of deep learning projects. The data comes from different sources and in different formats and is prepared differently from application to application. One part, however, is clear: because entire datasets are usually too large for us to handle at once, we train our models on smaller batches of data. \n",
    "\n",
    "The goal of the ```Dataset``` class is to encapsulate all the 'dirty' data processing: loading and cleaning the data, storing features (or names of files where features can be found) and labels, as well as providing the means for accessing individual (transformed) items of the data using the ```__getitem__()``` function and an index. You already implemented an ```ImageFolderDataset``` (in ```exercise_code/data/image_folder_dataset.py```) class in Exercise 3. We we will reuse this class here.\n",
    "\n",
    "For processing the data, you implemented several transforms in Exercise 3 (```RescaleTransform```, ```NormalizeTransform```, ```ComposeTransform```). In this exercise we are working with images, which are multidimensional arrays, but we are using simple feedforward neural network which takes a one dimensional array as an input, so it is necessary to reshape the images before feeding them into the model. We implemented this reshape operation for you in the ```FlattenTransform``` class, also found in ```exercise_code/data/image_folder_dataset.py```."
   ]
  },
  {
   "cell_type": "code",
   "execution_count": 3,
   "metadata": {},
   "outputs": [],
   "source": [
    "download_url = \"https://cdn3.vision.in.tum.de/~dl4cv/cifar10.zip\"\n",
    "i2dl_exercises_path = os.path.dirname(os.path.abspath(os.getcwd()))\n",
    "cifar_root = os.path.join(i2dl_exercises_path, \"datasets\", \"cifar10\")\n",
    "\n",
    "# Use the Cifar10 mean and standard deviation computed in Exercise 3.\n",
    "cifar_mean = np.array([0.49191375, 0.48235852, 0.44673872])\n",
    "cifar_std  = np.array([0.24706447, 0.24346213, 0.26147554])\n",
    "\n",
    "# Define all the transforms we will apply on the images when \n",
    "# retrieving them.\n",
    "rescale_transform = RescaleTransform()\n",
    "normalize_transform = NormalizeTransform(\n",
    "    mean=cifar_mean,\n",
    "    std=cifar_std\n",
    ")\n",
    "flatten_transform = FlattenTransform()\n",
    "compose_transform = ComposeTransform([rescale_transform, \n",
    "                                      normalize_transform,\n",
    "                                      flatten_transform])\n",
    "\n",
    "# Create a train, validation and test dataset.\n",
    "datasets = {}\n",
    "for mode in ['train', 'val', 'test']:\n",
    "    crt_dataset = ImageFolderDataset(\n",
    "        mode=mode,\n",
    "        root=cifar_root, \n",
    "        download_url=download_url,\n",
    "        transform=compose_transform,\n",
    "        split={'train': 0.6, 'val': 0.2, 'test': 0.2}\n",
    "    )\n",
    "    datasets[mode] = crt_dataset"
   ]
  },
  {
   "cell_type": "markdown",
   "metadata": {},
   "source": [
    "Then, based on this ```Dataset``` object, we can construct a ```Dataloader``` object which samples a random mini-batch of data at once. "
   ]
  },
  {
   "cell_type": "code",
   "execution_count": 4,
   "metadata": {},
   "outputs": [],
   "source": [
    "# Create a dataloader for each split.\n",
    "dataloaders = {}\n",
    "for mode in ['train', 'val', 'test']:\n",
    "    crt_dataloader = DataLoader(\n",
    "        dataset=datasets[mode],\n",
    "        batch_size=256,\n",
    "        shuffle=True,\n",
    "        drop_last=True,\n",
    "    )\n",
    "    dataloaders[mode] = crt_dataloader"
   ]
  },
  {
   "cell_type": "markdown",
   "metadata": {},
   "source": [
    "Because the ```Dataloader``` has the ```__iter__()``` method, we can simply iterate through the batches it produces, like this:\n",
    "\n",
    "```python\n",
    "for batch in dataloader['train']:\n",
    "    do_something(batch)\n",
    "```"
   ]
  },
  {
   "cell_type": "markdown",
   "metadata": {},
   "source": [
    "## 1.2 Model"
   ]
  },
  {
   "cell_type": "markdown",
   "metadata": {},
   "source": [
    "Now, that the data is prepared, we can discuss the model in which we are feeding the data, which in our case will be a neural network. \n",
    "\n",
    "In Exercise 5, you implemented a simple 2-layer neural network that had a hidden size as a parameter:\n",
    "\n",
    "$$ \n",
    "{\\hat{y}} = \\sigma(\\sigma({x W_1} + {b_1}) {W_2} + {b_2}) \n",
    "$$\n",
    "\n",
    "where $ \\sigma({x}) $ was the sigmoid function, $ {x} $ was the input, $ {W_1}, {W_2} $ the weight matrices and $ {b_1}, {b_2}$ the biases for the two layers.\n",
    "\n",
    "This is how we used this network:"
   ]
  },
  {
   "cell_type": "code",
   "execution_count": 4,
   "metadata": {},
   "outputs": [],
   "source": [
    "input_size = datasets['train'][0]['image'].shape[0]\n",
    "model = ClassificationNet(input_size=input_size, \n",
    "                          hidden_size=512)"
   ]
  },
  {
   "cell_type": "markdown",
   "metadata": {},
   "source": [
    "Note that we updated the ```ClassificationNet``` from the previous exercise, so that now you can customize more: the number of outputs, the choice of activation function, the hidden size etc. We encourage you to check out the implementation in ```exercise_code/networks/classification_net.py``` "
   ]
  },
  {
   "cell_type": "code",
   "execution_count": 5,
   "metadata": {},
   "outputs": [],
   "source": [
    "num_layer = 2\n",
    "reg = 0.1\n",
    "\n",
    "model = ClassificationNet(activation=Sigmoid(), \n",
    "                          num_layer=num_layer, \n",
    "                          reg=reg,\n",
    "                          num_classes=10)"
   ]
  },
  {
   "cell_type": "markdown",
   "metadata": {},
   "source": [
    "Then, the forward and backward passes through the model were simply:\n",
    "\n",
    "```python\n",
    "\n",
    "# X is a batch of training features \n",
    "# X.shape = (batch_size, features_size)\n",
    "y_out = model.forward(X)\n",
    "\n",
    "# dout is the gradient of the loss function w.r.t the output of the network.\n",
    "# dout.shape = (batch_size, )\n",
    "model.backward(dout)\n",
    "```"
   ]
  },
  {
   "cell_type": "markdown",
   "metadata": {},
   "source": [
    "Just as the learning rate or the number of iterations we want to train for, the number of hidden layers and the number of units in each hidden layer are also hyperparameters. In this notebook you will play with networks of different sizes and will see the impact that the network capacity has."
   ]
  },
  {
   "cell_type": "markdown",
   "metadata": {},
   "source": [
    "## 1.3 Loss"
   ]
  },
  {
   "cell_type": "markdown",
   "metadata": {},
   "source": [
    "In order to measure how well a network is performing, we implemented several ```Loss``` classes (```L1```, ```MSE```, ```BCE```, each preferred for a certain type of problems) in ```exercise_code/networks/loss.py```.\n",
    "\n",
    "Each implemented a ```forward()``` method, which outputs a number that we use as a proxy for our network performance. \n",
    "\n",
    "Also, because our goal was to change the weights of the network such that this loss measure decreases, we were also interested in the gradients of the loss w.r.t the outputs of the network, $ \\nabla_{\\hat{y}} L({\\hat{y}}, {y}) $. This was implemented in ```backward()```. \n",
    "\n",
    "In previous exercises, we only worked with binary classification and used binary cross entropy (```BCE```) as a loss function.\n",
    "\n",
    "$$ BCE(\\hat{y}, y) = \\frac{1}{N} \\sum_{i=1}^N \\Big [-y_i \\log(\\hat{y_i}) - (1-y_i) \\log(1 - \\hat{y_i}) \\Big] $$ \n",
    "\n",
    "where\n",
    "- $ N $ was the number of samples we were considering\n",
    "- $\\hat{y}_i$ was the network's prediction for sample $i$. Note that this was a valid probability $\\in [0, 1]$, because we applied a [sigmoid](https://en.wikipedia.org/wiki/Sigmoid_function) activation on the last layer. \n",
    "- $ y_i $ was the ground truth label (0 or 1, depending on the class)\n",
    "\n",
    "Because we have 10 classes in the CIFAR10 dataset, we need a generalization of the binary cross entropy for multiple classes. This is simply called the cross entropy loss and has the following definition:\n",
    "\n",
    "$$ CE(\\hat{y}, y) = \\frac{1}{N} \\sum_{i=1}^N \\sum_{k=1}^{C} \\Big[ -y_{ik} \\log(\\hat{y}_{ik}) \\Big] $$\n",
    "\n",
    "where:\n",
    "- $ N $ is again the number of samples\n",
    "- $ C $ is the number of classes\n",
    "- $ \\hat{y}_{ik} $ is the probability that the model assigns for the $k$th class when the $i$th sample is the input. **Because we don't apply any activation function on the last layer of our network, its outputs for each sample will not be a valid probability distribution over the classes. We call these raw outputs of the network '[logits](https://datascience.stackexchange.com/questions/31041/what-does-logits-in-machine-learning-mean/31045)' and we will apply a [softmax](https://en.wikipedia.org/wiki/Softmax_function) activation in order to obtain a valid probability distribution.** \n",
    "- $y_{ik} = 1 $ iff the true label of the $i$th sample is $k$ and 0 otherwise. This is called a [one-hot encoding](https://machinelearningmastery.com/why-one-hot-encode-data-in-machine-learning/).\n",
    "\n",
    "You can check for yourself that when the number of classes $ C $ is 2, then the binary cross entropy is actually equivalent to the cross entropy.\n",
    "\n",
    "We have already implemented the ```CrossEntropyFromLogits``` for you. You can check it out in ```exercise_code/networks/loss.py ```"
   ]
  },
  {
   "cell_type": "code",
   "execution_count": 6,
   "metadata": {},
   "outputs": [],
   "source": [
    "loss = CrossEntropyFromLogits()"
   ]
  },
  {
   "cell_type": "markdown",
   "metadata": {},
   "source": [
    "Just as with the previous losses we have seen, we can simply get the results of the forward and backward passes as follows:"
   ]
  },
  {
   "cell_type": "markdown",
   "metadata": {},
   "source": [
    "```python\n",
    "# y_out is the output of the neural network\n",
    "# y_truth is the actual label from the dataset\n",
    "loss.forward(y_out, y_truth)\n",
    "loss.backward(y_out, y_truth)\n",
    "```"
   ]
  },
  {
   "cell_type": "markdown",
   "metadata": {},
   "source": [
    "## 1.4 Optimizer"
   ]
  },
  {
   "cell_type": "markdown",
   "metadata": {},
   "source": [
    "Now, knowing the gradient of the loss w.r.t the ouputs of the network, as well as the local gradient for each layer of the network, we can use the chain rule to compute all gradients. \n",
    "\n",
    "We implemented several optimizer classes (```SGD```, ```Adam```, ```sgd_momentum```, which you can check out in ```exercise_code/networks/optimizer.py```) that implement different first-order parameter update rules. The ```step()``` method iterates through all the parameters of a model and updates them using the gradient information.\n",
    "\n",
    "What the optimizer is doing, in pseudocode, is the following:\n",
    "\n",
    "```python\n",
    "for param in model:\n",
    "    # Use the gradient to update the weights.\n",
    "    update(param)\n",
    "    \n",
    "    # Reset the gradient after each update.\n",
    "    param.gradient = 0\n",
    "```\n",
    "\n",
    "```SGD``` had the simplest update rule:\n",
    "```python\n",
    "def update(param):\n",
    "    param = param - learning_rate * param.gradient\n",
    "```\n",
    "\n",
    "For the more complicated update rules, see ```exercise_code/networks/optimizer.py```"
   ]
  },
  {
   "cell_type": "markdown",
   "metadata": {},
   "source": [
    "## 1.5 Solver"
   ]
  },
  {
   "cell_type": "markdown",
   "metadata": {},
   "source": [
    "The ```Solver``` is where all the above elements come together: given a train and a validation dataloader, a model, a loss and an optimizer, it uses the training data to optimize a model in order to get better predictions. We simply call ```train()``` and it does its 'magic' for us!\n",
    "```python\n",
    "solver = Solver(model, \n",
    "                dataloaders['train'], \n",
    "                dataloaders['val'], \n",
    "                learning_rate=0.001, \n",
    "                loss_func=MSE(), \n",
    "                optimizer=SGD)\n",
    "\n",
    "solver.train(epochs=epochs)\n",
    "```\n",
    "\n",
    "In order to see, that there is no actual 'magic' check out its implementation in ```exercise_code/solver.py``` ;)."
   ]
  },
  {
   "cell_type": "markdown",
   "metadata": {},
   "source": [
    "# 2. An overview of hyperparameters"
   ]
  },
  {
   "cell_type": "markdown",
   "metadata": {
    "collapsed": true
   },
   "source": [
    "\n",
    "<img src=https://images.deepai.org/glossary-terms/05c646fe1676490aa0b8cab0732a02b2/hyperparams.png alt=hyperparameter width=700>\n",
    "\n",
    "A **hyperparameter** is a parameter that is set before the learning process begins. Recall that the parameters of weight matrix and bias vector are learned during the learning process.\n",
    "\n",
    "The hyperparameters are essential, for they control and affect the whole training and have a great impact on the performance of the model. \n",
    "\n",
    "Some examples of hyperparameters we have covered in lectures:\n",
    "* Network architecture\n",
    "    * Choice of activation function\n",
    "    * Number of layers\n",
    "    * ...\n",
    "* Learning rate\n",
    "* Number of epochs\n",
    "* Batch size\n",
    "* Regularization strength\n",
    "* Momentum\n",
    "* ..."
   ]
  },
  {
   "cell_type": "markdown",
   "metadata": {},
   "source": [
    "## Start debugging your own network!"
   ]
  },
  {
   "cell_type": "markdown",
   "metadata": {},
   "source": [
    "As already suggested in the lectures, you may always want to start from small and simple architectures, to make sure you are going the right way. \n",
    "\n",
    "First you may need to overfit a single training sample, then a few batches of training samples, then go deeper with larger neural networks and the whole training data.\n",
    "\n",
    "Here we always provide a default neural network (i.e. ClassificationNet) with arbitrary number of layers, which is a generalization from a fixed 2-layer neural network in exercise 5. You are welcome to implement your own network, in that case just implement **MyOwnNetwork** in ```exercise_code/networks/classification_net.py```. You can also copy things from ClassficationNet and make a little adjustment to your own network. For either way, just pick a network and comment out the other one, then run the cells below for debugging.\n",
    "\n",
    "__Note__: \n",
    "- Please, make sure you don't modify the ClassificationNet itself so that you can always have a working network to fall back on\n",
    "- In order to pass this submissions, you can **first stick to the default ClassificationNet implementation without changing any code at all**. The goal of this submission is to find reasonable hyperparameters and the parameter options of the ClassificationNet are broad enough.\n",
    "- Once you have surpassed the submission goal, you can try to implement additional activation functions in the accompanying notebook, try different weight initializations or other adjustments by writing your own network architecture in the MyOwnNetwork class."
   ]
  },
  {
   "cell_type": "markdown",
   "metadata": {},
   "source": [
    "First, let's begin with a 2-layer neural network, and overfit one single training sample.\n",
    "\n",
    "After training, let's evaluate the training process by plotting the loss curves."
   ]
  },
  {
   "cell_type": "code",
   "execution_count": 7,
   "metadata": {},
   "outputs": [
    {
     "name": "stdout",
     "output_type": "stream",
     "text": [
      "(Epoch 1 / 20) train loss: 2.332298; val loss: 2.333434\n",
      "(Epoch 2 / 20) train loss: 2.332298; val loss: 2.321147\n",
      "(Epoch 3 / 20) train loss: 2.207704; val loss: 2.329631\n",
      "(Epoch 4 / 20) train loss: 2.063199; val loss: 2.353444\n",
      "(Epoch 5 / 20) train loss: 1.897424; val loss: 2.384609\n",
      "(Epoch 6 / 20) train loss: 1.729806; val loss: 2.415315\n",
      "(Epoch 7 / 20) train loss: 1.572151; val loss: 2.440568\n",
      "(Epoch 8 / 20) train loss: 1.425705; val loss: 2.459068\n",
      "(Epoch 9 / 20) train loss: 1.288198; val loss: 2.472408\n",
      "(Epoch 10 / 20) train loss: 1.157970; val loss: 2.483585\n",
      "(Epoch 11 / 20) train loss: 1.034278; val loss: 2.495490\n",
      "(Epoch 12 / 20) train loss: 0.918172; val loss: 2.510058\n",
      "(Epoch 13 / 20) train loss: 0.811920; val loss: 2.528006\n",
      "(Epoch 14 / 20) train loss: 0.717184; val loss: 2.549076\n",
      "(Epoch 15 / 20) train loss: 0.633949; val loss: 2.572525\n",
      "(Epoch 16 / 20) train loss: 0.561114; val loss: 2.597548\n",
      "(Epoch 17 / 20) train loss: 0.497982; val loss: 2.623575\n",
      "(Epoch 18 / 20) train loss: 0.444226; val loss: 2.650372\n",
      "(Epoch 19 / 20) train loss: 0.398835; val loss: 2.677988\n",
      "(Epoch 20 / 20) train loss: 0.360317; val loss: 2.706603\n"
     ]
    }
   ],
   "source": [
    "from exercise_code.solver import Solver\n",
    "from exercise_code.networks.optimizer import SGD, Adam\n",
    "from exercise_code.networks import MyOwnNetwork\n",
    "\n",
    "num_layer = 2\n",
    "epochs = 20\n",
    "reg = 0.1\n",
    "batch_size = 4\n",
    "\n",
    "model = ClassificationNet(num_layer=num_layer, reg=reg)\n",
    "# model = MyOwnNetwork()\n",
    "\n",
    "loss = CrossEntropyFromLogits()\n",
    "\n",
    "# Make a new data loader with a single training image\n",
    "overfit_dataset = ImageFolderDataset(\n",
    "    mode='train',\n",
    "    root=cifar_root, \n",
    "    download_url=download_url,\n",
    "    transform=compose_transform,\n",
    "    limit_files=1\n",
    ")\n",
    "dataloaders['train_overfit_single_image'] = DataLoader(\n",
    "    dataset=overfit_dataset,\n",
    "    batch_size=batch_size,\n",
    "    shuffle=True,\n",
    "    drop_last=False,\n",
    ")\n",
    "\n",
    "# Decrease validation data for only debugging\n",
    "debugging_validation_dataset = ImageFolderDataset(\n",
    "    mode='val',\n",
    "    root=cifar_root, \n",
    "    download_url=download_url,\n",
    "    transform=compose_transform,\n",
    "    limit_files=100\n",
    ")\n",
    "dataloaders['val_500files'] = DataLoader(\n",
    "    dataset=debugging_validation_dataset,\n",
    "    batch_size=batch_size,\n",
    "    shuffle=True,\n",
    "    drop_last=True,\n",
    ")\n",
    "\n",
    "solver = Solver(model, dataloaders['train_overfit_single_image'], dataloaders['val_500files'], \n",
    "                learning_rate=1e-3, loss_func=loss, optimizer=Adam)\n",
    "\n",
    "solver.train(epochs=epochs)"
   ]
  },
  {
   "cell_type": "code",
   "execution_count": 8,
   "metadata": {},
   "outputs": [
    {
     "data": {
      "image/png": "[encoded data removed]",
      "text/plain": [
       "<Figure size 432x288 with 1 Axes>"
      ]
     },
     "metadata": {
      "needs_background": "light"
     },
     "output_type": "display_data"
    }
   ],
   "source": [
    "plt.title('Loss curves')\n",
    "plt.plot(solver.train_loss_history, '-', label='train')\n",
    "plt.plot(solver.val_loss_history, '-', label='val')\n",
    "plt.legend(loc='lower right')\n",
    "plt.xlabel('Iteration')\n",
    "plt.show()"
   ]
  },
  {
   "cell_type": "code",
   "execution_count": 9,
   "metadata": {},
   "outputs": [
    {
     "name": "stdout",
     "output_type": "stream",
     "text": [
      "Training accuray: 1.00000\n",
      "Validation accuray: 0.07000\n"
     ]
    }
   ],
   "source": [
    "print(\"Training accuray: %.5f\" % (solver.get_dataset_accuracy(dataloaders['train_overfit_single_image'])))\n",
    "print(\"Validation accuray: %.5f\" % (solver.get_dataset_accuracy(dataloaders['val_500files'])))"
   ]
  },
  {
   "cell_type": "markdown",
   "metadata": {},
   "source": [
    "This time let's try to overfit to a small set of training batch samples. Please observe the difference from above. "
   ]
  },
  {
   "cell_type": "code",
   "execution_count": 15,
   "metadata": {},
   "outputs": [
    {
     "name": "stdout",
     "output_type": "stream",
     "text": [
      "(Epoch 1 / 100) train loss: 2.334852; val loss: 2.333360\n",
      "(Epoch 2 / 100) train loss: 2.334852; val loss: 2.318589\n",
      "(Epoch 3 / 100) train loss: 2.269710; val loss: 2.323560\n",
      "(Epoch 4 / 100) train loss: 2.217795; val loss: 2.341473\n",
      "(Epoch 5 / 100) train loss: 2.167631; val loss: 2.367542\n",
      "(Epoch 6 / 100) train loss: 2.116122; val loss: 2.398303\n",
      "(Epoch 7 / 100) train loss: 2.064447; val loss: 2.430883\n",
      "(Epoch 8 / 100) train loss: 2.014506; val loss: 2.463149\n",
      "(Epoch 9 / 100) train loss: 1.966736; val loss: 2.494024\n",
      "(Epoch 10 / 100) train loss: 1.921076; val loss: 2.523245\n",
      "(Epoch 11 / 100) train loss: 1.878264; val loss: 2.551092\n",
      "(Epoch 12 / 100) train loss: 1.839011; val loss: 2.578232\n",
      "(Epoch 13 / 100) train loss: 1.803241; val loss: 2.605646\n",
      "(Epoch 14 / 100) train loss: 1.770549; val loss: 2.634514\n",
      "(Epoch 15 / 100) train loss: 1.740607; val loss: 2.665749\n",
      "(Epoch 16 / 100) train loss: 1.713060; val loss: 2.699334\n",
      "(Epoch 17 / 100) train loss: 1.687565; val loss: 2.734137\n",
      "(Epoch 18 / 100) train loss: 1.663854; val loss: 2.768592\n",
      "(Epoch 19 / 100) train loss: 1.641710; val loss: 2.801635\n",
      "(Epoch 20 / 100) train loss: 1.620993; val loss: 2.833042\n",
      "(Epoch 21 / 100) train loss: 1.601582; val loss: 2.863114\n",
      "(Epoch 22 / 100) train loss: 1.583275; val loss: 2.892143\n",
      "(Epoch 23 / 100) train loss: 1.565842; val loss: 2.920147\n",
      "(Epoch 24 / 100) train loss: 1.549112; val loss: 2.947002\n",
      "(Epoch 25 / 100) train loss: 1.532984; val loss: 2.972742\n",
      "(Epoch 26 / 100) train loss: 1.517400; val loss: 2.997680\n",
      "(Epoch 27 / 100) train loss: 1.502295; val loss: 3.022204\n",
      "(Epoch 28 / 100) train loss: 1.487560; val loss: 3.046419\n",
      "(Epoch 29 / 100) train loss: 1.473103; val loss: 3.070051\n",
      "(Epoch 30 / 100) train loss: 1.458879; val loss: 3.092771\n",
      "(Epoch 31 / 100) train loss: 1.444841; val loss: 3.114570\n",
      "(Epoch 32 / 100) train loss: 1.430905; val loss: 3.135728\n",
      "(Epoch 33 / 100) train loss: 1.416989; val loss: 3.156431\n",
      "(Epoch 34 / 100) train loss: 1.403059; val loss: 3.176502\n",
      "(Epoch 35 / 100) train loss: 1.389094; val loss: 3.195563\n",
      "(Epoch 36 / 100) train loss: 1.375051; val loss: 3.213442\n",
      "(Epoch 37 / 100) train loss: 1.360890; val loss: 3.230416\n",
      "(Epoch 38 / 100) train loss: 1.346619; val loss: 3.247024\n",
      "(Epoch 39 / 100) train loss: 1.332243; val loss: 3.263528\n",
      "(Epoch 40 / 100) train loss: 1.317746; val loss: 3.279656\n",
      "(Epoch 41 / 100) train loss: 1.303151; val loss: 3.294955\n",
      "(Epoch 42 / 100) train loss: 1.288461; val loss: 3.309350\n",
      "(Epoch 43 / 100) train loss: 1.273681; val loss: 3.323219\n",
      "(Epoch 44 / 100) train loss: 1.258831; val loss: 3.336926\n",
      "(Epoch 45 / 100) train loss: 1.243942; val loss: 3.350479\n",
      "(Epoch 46 / 100) train loss: 1.229054; val loss: 3.363615\n",
      "(Epoch 47 / 100) train loss: 1.214179; val loss: 3.376173\n",
      "(Epoch 48 / 100) train loss: 1.199364; val loss: 3.388286\n",
      "(Epoch 49 / 100) train loss: 1.184631; val loss: 3.400095\n",
      "(Epoch 50 / 100) train loss: 1.170018; val loss: 3.411449\n",
      "(Epoch 51 / 100) train loss: 1.155560; val loss: 3.422059\n",
      "(Epoch 52 / 100) train loss: 1.141281; val loss: 3.431861\n",
      "(Epoch 53 / 100) train loss: 1.127221; val loss: 3.441097\n",
      "(Epoch 54 / 100) train loss: 1.113388; val loss: 3.450072\n",
      "(Epoch 55 / 100) train loss: 1.099809; val loss: 3.459005\n",
      "(Epoch 56 / 100) train loss: 1.086492; val loss: 3.467975\n",
      "(Epoch 57 / 100) train loss: 1.073461; val loss: 3.476891\n",
      "(Epoch 58 / 100) train loss: 1.060731; val loss: 3.485568\n",
      "(Epoch 59 / 100) train loss: 1.048311; val loss: 3.493910\n",
      "(Epoch 60 / 100) train loss: 1.036206; val loss: 3.501939\n",
      "(Epoch 61 / 100) train loss: 1.024413; val loss: 3.509625\n",
      "(Epoch 62 / 100) train loss: 1.012941; val loss: 3.516900\n",
      "(Epoch 63 / 100) train loss: 1.001795; val loss: 3.523882\n",
      "(Epoch 64 / 100) train loss: 0.990979; val loss: 3.530844\n",
      "(Epoch 65 / 100) train loss: 0.980490; val loss: 3.537855\n",
      "(Epoch 66 / 100) train loss: 0.970330; val loss: 3.544700\n",
      "(Epoch 67 / 100) train loss: 0.960496; val loss: 3.551228\n",
      "(Epoch 68 / 100) train loss: 0.950993; val loss: 3.557493\n",
      "(Epoch 69 / 100) train loss: 0.941819; val loss: 3.563534\n",
      "(Epoch 70 / 100) train loss: 0.932973; val loss: 3.569277\n",
      "(Epoch 71 / 100) train loss: 0.924452; val loss: 3.574718\n",
      "(Epoch 72 / 100) train loss: 0.916253; val loss: 3.579995\n",
      "(Epoch 73 / 100) train loss: 0.908372; val loss: 3.585205\n",
      "(Epoch 74 / 100) train loss: 0.900804; val loss: 3.590322\n",
      "(Epoch 75 / 100) train loss: 0.893543; val loss: 3.595256\n",
      "(Epoch 76 / 100) train loss: 0.886582; val loss: 3.599889\n",
      "(Epoch 77 / 100) train loss: 0.879916; val loss: 3.604159\n",
      "(Epoch 78 / 100) train loss: 0.873535; val loss: 3.608114\n",
      "(Epoch 79 / 100) train loss: 0.867431; val loss: 3.611808\n",
      "(Epoch 80 / 100) train loss: 0.861595; val loss: 3.615230\n",
      "(Epoch 81 / 100) train loss: 0.856017; val loss: 3.618417\n",
      "(Epoch 82 / 100) train loss: 0.850687; val loss: 3.621459\n",
      "(Epoch 83 / 100) train loss: 0.845596; val loss: 3.624332\n",
      "(Epoch 84 / 100) train loss: 0.840734; val loss: 3.626920\n",
      "(Epoch 85 / 100) train loss: 0.836090; val loss: 3.629222\n",
      "(Epoch 86 / 100) train loss: 0.831655; val loss: 3.631301\n",
      "(Epoch 87 / 100) train loss: 0.827419; val loss: 3.633131\n",
      "(Epoch 88 / 100) train loss: 0.823372; val loss: 3.634677\n",
      "(Epoch 89 / 100) train loss: 0.819505; val loss: 3.636012\n",
      "(Epoch 90 / 100) train loss: 0.815806; val loss: 3.637192\n",
      "(Epoch 91 / 100) train loss: 0.812264; val loss: 3.638174\n",
      "(Epoch 92 / 100) train loss: 0.808866; val loss: 3.638941\n",
      "(Epoch 93 / 100) train loss: 0.805614; val loss: 3.639595\n",
      "(Epoch 94 / 100) train loss: 0.802532; val loss: 3.640212\n",
      "(Epoch 95 / 100) train loss: 0.799595; val loss: 3.640651\n",
      "(Epoch 96 / 100) train loss: 0.796786; val loss: 3.640814\n",
      "(Epoch 97 / 100) train loss: 0.794096; val loss: 3.640726\n",
      "(Epoch 98 / 100) train loss: 0.791505; val loss: 3.640470\n",
      "(Epoch 99 / 100) train loss: 0.789025; val loss: 3.640150\n",
      "(Epoch 100 / 100) train loss: 0.786658; val loss: 3.639794\n"
     ]
    }
   ],
   "source": [
    "from exercise_code.networks import MyOwnNetwork\n",
    "\n",
    "num_layer = 2\n",
    "epochs = 100\n",
    "reg = 0.1\n",
    "num_samples = 10\n",
    "\n",
    "model = ClassificationNet(num_layer=num_layer, reg=reg)\n",
    "# model = MyOwnNetwork()\n",
    "\n",
    "loss = CrossEntropyFromLogits()\n",
    "\n",
    "# Make a new data loader with a our num_samples training image\n",
    "overfit_dataset = ImageFolderDataset(\n",
    "    mode='train',\n",
    "    root=cifar_root, \n",
    "    download_url=download_url,\n",
    "    transform=compose_transform,\n",
    "    limit_files=num_samples\n",
    ")\n",
    "dataloaders['train_overfit_10samples'] = DataLoader(\n",
    "    dataset=overfit_dataset,\n",
    "    batch_size=batch_size,\n",
    "    shuffle=True,\n",
    "    drop_last=False,\n",
    ")\n",
    "\n",
    "solver = Solver(model, dataloaders['train_overfit_10samples'], dataloaders['val_500files'], \n",
    "                learning_rate=1e-3, loss_func=loss, optimizer=Adam)\n",
    "\n",
    "solver.train(epochs=epochs)"
   ]
  },
  {
   "cell_type": "code",
   "execution_count": 16,
   "metadata": {},
   "outputs": [
    {
     "data": {
      "image/png": "[encoded data removed]",
      "text/plain": [
       "<Figure size 432x288 with 1 Axes>"
      ]
     },
     "metadata": {
      "needs_background": "light"
     },
     "output_type": "display_data"
    }
   ],
   "source": [
    "plt.title('Loss curves')\n",
    "plt.plot(solver.train_loss_history, '-', label='train')\n",
    "plt.plot(solver.val_loss_history, '-', label='val')\n",
    "plt.legend(loc='lower right')\n",
    "plt.xlabel('Iteration')\n",
    "plt.show()"
   ]
  },
  {
   "cell_type": "code",
   "execution_count": 17,
   "metadata": {},
   "outputs": [
    {
     "name": "stdout",
     "output_type": "stream",
     "text": [
      "Training accuray: 1.00000\n",
      "Validation accuray: 0.07000\n"
     ]
    }
   ],
   "source": [
    "print(\"Training accuray: %.5f\" % (solver.get_dataset_accuracy(dataloaders['train_overfit_10samples'])))\n",
    "print(\"Validation accuray: %.5f\" % (solver.get_dataset_accuracy(dataloaders['val_500files'])))"
   ]
  },
  {
   "cell_type": "markdown",
   "metadata": {},
   "source": [
    "If you're overfitting the training data, that means the network's implementation is correct. However, as you have more samples to overfit, your accuracy will be way lower. You can increase the number of epochs above to achieve better results.\n",
    "\n",
    "Now let's try to feed all the training and validation data into the network, but this time we set the same hyperparameters for 2-layer and 5-layer networks, and compare the different behaviors.\n",
    "\n",
    "__Note__: This may take about 1 min for each epoch as the training set is quite large. For convenience, we only train on 1000 images for now but use the full validation set."
   ]
  },
  {
   "cell_type": "code",
   "execution_count": 9,
   "metadata": {},
   "outputs": [
    {
     "name": "stdout",
     "output_type": "stream",
     "text": [
      "(Epoch 1 / 5) train loss: 2.302598; val loss: 2.302607\n",
      "(Epoch 2 / 5) train loss: 2.165223; val loss: 2.095663\n",
      "(Epoch 3 / 5) train loss: 1.844030; val loss: 2.130221\n",
      "(Epoch 4 / 5) train loss: 1.652806; val loss: 2.182758\n",
      "(Epoch 5 / 5) train loss: 1.423095; val loss: 2.222684\n"
     ]
    }
   ],
   "source": [
    "from exercise_code.networks import MyOwnNetwork\n",
    "\n",
    "num_layer = 2\n",
    "epochs = 5\n",
    "reg = 0.01\n",
    "\n",
    "# Make a new data loader with 1000 training samples\n",
    "num_samples = 1000\n",
    "overfit_dataset = ImageFolderDataset(\n",
    "    mode='train',\n",
    "    root=cifar_root, \n",
    "    download_url=download_url,\n",
    "    transform=compose_transform,\n",
    "    limit_files=num_samples\n",
    ")\n",
    "dataloaders['train_small'] = DataLoader(\n",
    "    dataset=overfit_dataset,\n",
    "    batch_size=4,\n",
    "    shuffle=True,\n",
    "    drop_last=False,\n",
    ")\n",
    "\n",
    "\n",
    "# Change here if you want to use the full training set\n",
    "use_full_training_set = False\n",
    "if not use_full_training_set:\n",
    "    train_loader = dataloaders['train_small']\n",
    "else:\n",
    "    train_loader = dataloaders['train']\n",
    "    \n",
    "\n",
    "#model = ClassificationNet(num_layer=num_layer, reg=reg)\n",
    "model = MyOwnNetwork(activation=Relu())\n",
    "\n",
    "loss = CrossEntropyFromLogits()\n",
    "\n",
    "solver = Solver(model, train_loader, dataloaders['val'], \n",
    "                learning_rate=1e-3, loss_func=loss, optimizer=Adam)\n",
    "\n",
    "solver.train(epochs=epochs)"
   ]
  },
  {
   "cell_type": "code",
   "execution_count": null,
   "metadata": {},
   "outputs": [],
   "source": [
    "plt.title('Loss curves')\n",
    "plt.plot(solver.train_loss_history, '-', label='train')\n",
    "plt.plot(solver.val_loss_history, '-', label='val')\n",
    "plt.legend(loc='lower right')\n",
    "plt.xlabel('Iteration')\n",
    "plt.show()"
   ]
  },
  {
   "cell_type": "code",
   "execution_count": null,
   "metadata": {},
   "outputs": [],
   "source": [
    "print(\"Training accuray: %.5f\" % (solver.get_dataset_accuracy(train_loader)))\n",
    "print(\"Validation accuray: %.5f\" % (solver.get_dataset_accuracy(dataloaders['val'])))"
   ]
  },
  {
   "cell_type": "code",
   "execution_count": null,
   "metadata": {},
   "outputs": [],
   "source": [
    "from exercise_code.networks import MyOwnNetwork\n",
    "\n",
    "num_layer = 5\n",
    "epochs = 5\n",
    "reg = 0.01\n",
    "\n",
    "model = ClassificationNet(num_layer=num_layer, reg=reg)\n",
    "# model = MyOwnNetwork()\n",
    "\n",
    "# Change here if you want to use the full training set\n",
    "use_full_training_set = False\n",
    "if not use_full_training_set:\n",
    "    train_loader = dataloaders['train_small']\n",
    "else:\n",
    "    train_loader = dataloaders['train']\n",
    "\n",
    "loss = CrossEntropyFromLogits()\n",
    "\n",
    "solver = Solver(model, train_loader, dataloaders['val'], \n",
    "                learning_rate=1e-3, loss_func=loss, optimizer=Adam)\n",
    "\n",
    "solver.train(epochs=epochs)"
   ]
  },
  {
   "cell_type": "code",
   "execution_count": null,
   "metadata": {},
   "outputs": [],
   "source": [
    "plt.title('Loss curves')\n",
    "plt.plot(solver.train_loss_history, '-', label='train')\n",
    "plt.plot(solver.val_loss_history, '-', label='val')\n",
    "plt.legend(loc='lower right')\n",
    "plt.xlabel('Iteration')\n",
    "plt.show()"
   ]
  },
  {
   "cell_type": "code",
   "execution_count": null,
   "metadata": {},
   "outputs": [],
   "source": [
    "print(\"Training accuray: %.5f\" % (solver.get_dataset_accuracy(train_loader)))\n",
    "print(\"Validation accuray: %.5f\" % (solver.get_dataset_accuracy(dataloaders['val'])))"
   ]
  },
  {
   "cell_type": "markdown",
   "metadata": {},
   "source": [
    "As you can see from above, the same hyperparameter set can decrease the loss for a 2-layer network, but for 5-layer network, it hardly works.\n",
    "\n",
    "The steps above are already mentioned in the lectures as debugging steps before training a neural network. \n",
    "\n",
    "If you implement your own network, make sure you do the steps above before tuning the hyperparameters as below. "
   ]
  },
  {
   "cell_type": "markdown",
   "metadata": {},
   "source": [
    "## Difficulty in tuning hyperparameters\n",
    "As can be seen through the results of training a larger network, training with whole data doesn't fit the training data as well as training with small number of training data. Besides, the architecture of neural network makes a difference, too. Small decisions on hyperparameters count. \n",
    "\n",
    "Usually, but not always, hyperparameters cannot be learned using well known gradient based methods (such as gradient descent), which are commonly employed to learn parameters. Besides, some hyperparameters can affect the structure of the model and the loss function.\n",
    "\n",
    "As mentioned before, hyperparameters need to be set before training. Tuning hyperparameters is hard, because you always have to try different combinations of the hyperparameters, train the network, do the validation and pick the best one. Besides, it is not guaranteed that you'll find the best combination.\n",
    "\n",
    "Next you will do hands on learning with hyperparameter tuning methods that are covered in lectures."
   ]
  },
  {
   "cell_type": "markdown",
   "metadata": {},
   "source": [
    "# Hyperparameter Tuning\n",
    "\n",
    "![alt text](https://blog.floydhub.com/content/images/2018/08/Screen-Shot-2018-08-22-at-17.59.25.png \"\")\n",
    "\n",
    "One of the main challenges in deep learning is finding the set of hyperparameters that performs best.\n",
    "\n",
    "So far, we have followed a manual approach by guessing hyperparameters, running the model, observing the result and maybe tweaking the hyperparameters based on this result. As you have probably noticed, this manual hyperparameter tuning is unstructured, inefficient and can become very tedious.\n",
    "\n",
    "\n",
    "A more systematic (and actually very simple) approach for hyperparameter tuning that you've already learned in the lecture  is implementing a **Grid Search**. \n",
    "\n",
    "\n",
    "\n",
    "### Grid Search\n",
    "Grid search is a simple and naive, yet effective method to automate the hyperparameter tuning:\n",
    "\n",
    "* First, you define the set of parameters you want to tune, e.g. $\\{learning\\_rate, regularization\\_strength\\}$.\n",
    "\n",
    "* For each hyperparameter, you then define a set of possible values, e.g. $learning\\_rate = \\{0.0001, 0.001, 0.01, 0.1\\}$.\n",
    "\n",
    "* Then, you train a model for every possible combination of these hyperparameter values and afterwards select the combination that works best (e.g. in terms of accuracy on your validation set).\n",
    "\n",
    "Check out our grid search implementation in `exercise_code/hyperparameter_tuning.py`. We show a simple for loop implementation and a more sophisticated one for multiple inputs.\n",
    "\n",
    "*Note: to keep things simple for the beginning, it'll be enough to just focus on the hyperparameters `learning_rate` and `regularization_strength`\n",
    " here, as in the example above.*"
   ]
  },
  {
   "cell_type": "code",
   "execution_count": null,
   "metadata": {},
   "outputs": [],
   "source": [
    "from exercise_code.networks import MyOwnNetwork\n",
    "\n",
    "# Specify the used network\n",
    "model_class = ClassificationNet\n",
    "\n",
    "from exercise_code import hyperparameter_tuning\n",
    "best_model, results = hyperparameter_tuning.grid_search(\n",
    "    dataloaders['train_small'], dataloaders['val_500files'],\n",
    "    grid_search_spaces = {\n",
    "        \"learning_rate\": [1e-2, 1e-3, 1e-4], \n",
    "        \"reg\": [1e-4]\n",
    "    },\n",
    "    model_class=model_class,\n",
    "    epochs=10, patience=5)"
   ]
  },
  {
   "cell_type": "markdown",
   "metadata": {},
   "source": [
    "From the results of your grid search, you might already have found some hyperparameter combinations that work better than others. A common practice is to now repeat the grid search on a more narrow domain centered around the parameters that worked best. \n",
    "\n",
    "**Conclusion Grid Search**\n",
    "\n",
    "With grid search we now have automated the hyperparameter tuning to a certain degree. Another advantage is, that since the training of all models are independent of each other, you can parallelize the grid search, i.e.,  try out different hyperparameter configurations in parallel on different machines.\n",
    "\n",
    "However, as you have probably noticed, there is one big problem with this approach: the number of possible combinations to try out grows exponentially with the number of hyperparameters (\"curse of dimensionality\"). As we add more hyperparameters to the grid search, the search space will explode in time complexity, making this strategy unfeasible."
   ]
  },
  {
   "cell_type": "markdown",
   "metadata": {},
   "source": [
    "Especially when your search space contains more than 3 or 4 dimensions, it is often better to use another, similar hyperparameter tuning method that you've already learned about: random search."
   ]
  },
  {
   "cell_type": "markdown",
   "metadata": {},
   "source": [
    "## Random Search\n",
    "Random search is very similar to grid search, with the only difference, that instead of providing specific values for every hyperparameter, you only define a range for each hyperparameter - then, the values are sampled randomly from the provided ranges.\n",
    "\n",
    "![alt text](https://i.stack.imgur.com/cIDuR.png \"\")\n",
    "\n",
    "The figure above illustrates the difference in the hyperparameter space exploration between grid search and random search: assume you have 2 hyperparameters with each 3 values. Running a grid search results in training $3^2=9$ different models - but in the end, you've just tired out 3 values for each parameter. For random search on the other hand, after training 9 models you'll have tried out 9 different values for each hyperparameter, which often leads much faster to good results.\n",
    "\n",
    "To get a deeper understanding of random search and why it is more efficient than grid search, you should definitely check out this paper: http://www.jmlr.org/papers/volume13/bergstra12a/bergstra12a.pdf\n",
    "\n",
    "\n",
    "\n",
    "\n",
    "Now please implement the `nn_random_search` function in `exercise_code/networks/hyperparameter_tuning.py`. \n",
    "\n",
    "*Hint: regarding the sample space of each parameter, think about the scale for which it makes most sense to sample in. For example the learning rate is usually sampled on a logarithmic scale!*\n",
    "\n",
    "*For simplicity and speed, just use the `train_batches`-dataloader!*"
   ]
  },
  {
   "cell_type": "code",
   "execution_count": 48,
   "metadata": {},
   "outputs": [
    {
     "name": "stdout",
     "output_type": "stream",
     "text": [
      "\n",
      "Evaluating Config #1 [of 10]:\n",
      " {'learning_rate': 0.0016813776482676888, 'reg': 0.00013275400962855678, 'loss_func': <exercise_code.networks.loss.CrossEntropyFromLogits object at 0x7f539e99c190>}\n",
      "(Epoch 1 / 30) train loss: 2.302643; val loss: 2.302648\n",
      "(Epoch 2 / 30) train loss: 1.901827; val loss: 1.761221\n",
      "(Epoch 3 / 30) train loss: 1.664945; val loss: 1.733017\n",
      "(Epoch 4 / 30) train loss: 1.553920; val loss: 1.709849\n",
      "(Epoch 5 / 30) train loss: 1.466225; val loss: 1.710210\n",
      "(Epoch 6 / 30) train loss: 1.353969; val loss: 1.750846\n",
      "(Epoch 7 / 30) train loss: 1.269665; val loss: 1.768536\n",
      "Stopping early at epoch 6!\n",
      "\n",
      "Evaluating Config #2 [of 10]:\n",
      " {'learning_rate': 0.0021060399352518778, 'reg': 0.00012871165311724057, 'loss_func': <exercise_code.networks.loss.CrossEntropyFromLogits object at 0x7f539e99c190>}\n",
      "(Epoch 1 / 30) train loss: 2.302630; val loss: 2.302628\n",
      "(Epoch 2 / 30) train loss: 1.912360; val loss: 1.798025\n",
      "(Epoch 3 / 30) train loss: 1.674864; val loss: 1.762590\n",
      "(Epoch 4 / 30) train loss: 1.541280; val loss: 1.709243\n",
      "(Epoch 5 / 30) train loss: 1.438650; val loss: 1.740982\n",
      "(Epoch 6 / 30) train loss: 1.344158; val loss: 1.740859\n",
      "(Epoch 7 / 30) train loss: 1.238672; val loss: 1.832806\n",
      "Stopping early at epoch 6!\n",
      "\n",
      "Evaluating Config #3 [of 10]:\n",
      " {'learning_rate': 4.921921411786573e-05, 'reg': 0.00035239454371718327, 'loss_func': <exercise_code.networks.loss.CrossEntropyFromLogits object at 0x7f539e99c190>}\n",
      "(Epoch 1 / 30) train loss: 2.302689; val loss: 2.302683\n",
      "(Epoch 2 / 30) train loss: 2.276231; val loss: 2.218319\n",
      "(Epoch 3 / 30) train loss: 2.151353; val loss: 2.107110\n",
      "(Epoch 4 / 30) train loss: 2.057409; val loss: 2.030431\n",
      "(Epoch 5 / 30) train loss: 1.986228; val loss: 1.972547\n",
      "(Epoch 6 / 30) train loss: 1.932925; val loss: 1.931942\n",
      "(Epoch 7 / 30) train loss: 1.894572; val loss: 1.902516\n",
      "(Epoch 8 / 30) train loss: 1.863933; val loss: 1.879354\n",
      "(Epoch 9 / 30) train loss: 1.838176; val loss: 1.859942\n",
      "(Epoch 10 / 30) train loss: 1.816108; val loss: 1.842689\n",
      "(Epoch 11 / 30) train loss: 1.795703; val loss: 1.827076\n",
      "(Epoch 12 / 30) train loss: 1.777324; val loss: 1.814924\n",
      "(Epoch 13 / 30) train loss: 1.760045; val loss: 1.801894\n",
      "(Epoch 14 / 30) train loss: 1.745192; val loss: 1.790407\n",
      "(Epoch 15 / 30) train loss: 1.731555; val loss: 1.780750\n",
      "(Epoch 16 / 30) train loss: 1.717293; val loss: 1.771690\n",
      "(Epoch 17 / 30) train loss: 1.703884; val loss: 1.764301\n",
      "(Epoch 18 / 30) train loss: 1.690966; val loss: 1.754652\n",
      "(Epoch 19 / 30) train loss: 1.676937; val loss: 1.746624\n",
      "(Epoch 20 / 30) train loss: 1.666275; val loss: 1.739398\n",
      "(Epoch 21 / 30) train loss: 1.657029; val loss: 1.731603\n",
      "(Epoch 22 / 30) train loss: 1.644502; val loss: 1.725316\n",
      "(Epoch 23 / 30) train loss: 1.633528; val loss: 1.718831\n",
      "(Epoch 24 / 30) train loss: 1.623816; val loss: 1.714448\n",
      "(Epoch 25 / 30) train loss: 1.610730; val loss: 1.707261\n",
      "(Epoch 26 / 30) train loss: 1.602017; val loss: 1.699457\n",
      "(Epoch 27 / 30) train loss: 1.592372; val loss: 1.694976\n",
      "(Epoch 28 / 30) train loss: 1.581472; val loss: 1.689779\n",
      "(Epoch 29 / 30) train loss: 1.570544; val loss: 1.684724\n",
      "(Epoch 30 / 30) train loss: 1.562406; val loss: 1.683324\n",
      "\n",
      "Evaluating Config #4 [of 10]:\n",
      " {'learning_rate': 2.918676194802738e-06, 'reg': 2.6173949250252855e-06, 'loss_func': <exercise_code.networks.loss.CrossEntropyFromLogits object at 0x7f539e99c190>}\n",
      "(Epoch 1 / 30) train loss: 2.302595; val loss: 2.302599\n",
      "(Epoch 2 / 30) train loss: 2.302303; val loss: 2.301981\n",
      "(Epoch 3 / 30) train loss: 2.301461; val loss: 2.300940\n",
      "(Epoch 4 / 30) train loss: 2.299990; val loss: 2.299113\n",
      "(Epoch 5 / 30) train loss: 2.297584; val loss: 2.296153\n",
      "(Epoch 6 / 30) train loss: 2.293825; val loss: 2.291885\n",
      "(Epoch 7 / 30) train loss: 2.288577; val loss: 2.286060\n",
      "(Epoch 8 / 30) train loss: 2.281743; val loss: 2.278844\n",
      "(Epoch 9 / 30) train loss: 2.273512; val loss: 2.270354\n",
      "(Epoch 10 / 30) train loss: 2.264132; val loss: 2.260990\n",
      "(Epoch 11 / 30) train loss: 2.254048; val loss: 2.250954\n",
      "(Epoch 12 / 30) train loss: 2.243185; val loss: 2.240963\n",
      "(Epoch 13 / 30) train loss: 2.232776; val loss: 2.230812\n",
      "(Epoch 14 / 30) train loss: 2.222309; val loss: 2.221072\n",
      "(Epoch 15 / 30) train loss: 2.212480; val loss: 2.211807\n",
      "(Epoch 16 / 30) train loss: 2.202777; val loss: 2.203109\n",
      "(Epoch 17 / 30) train loss: 2.194072; val loss: 2.194734\n",
      "(Epoch 18 / 30) train loss: 2.185105; val loss: 2.187003\n",
      "(Epoch 19 / 30) train loss: 2.177004; val loss: 2.179518\n",
      "(Epoch 20 / 30) train loss: 2.169463; val loss: 2.172496\n",
      "(Epoch 21 / 30) train loss: 2.162279; val loss: 2.165581\n",
      "(Epoch 22 / 30) train loss: 2.155703; val loss: 2.159715\n",
      "(Epoch 23 / 30) train loss: 2.149702; val loss: 2.153405\n",
      "(Epoch 24 / 30) train loss: 2.142435; val loss: 2.147651\n",
      "(Epoch 25 / 30) train loss: 2.136919; val loss: 2.142160\n",
      "(Epoch 26 / 30) train loss: 2.130506; val loss: 2.136634\n",
      "(Epoch 27 / 30) train loss: 2.125271; val loss: 2.131140\n",
      "(Epoch 28 / 30) train loss: 2.119945; val loss: 2.126232\n",
      "(Epoch 29 / 30) train loss: 2.114622; val loss: 2.121423\n",
      "(Epoch 30 / 30) train loss: 2.110199; val loss: 2.116551\n",
      "\n",
      "Evaluating Config #5 [of 10]:\n",
      " {'learning_rate': 0.0002597052504637227, 'reg': 9.474932663082846e-05, 'loss_func': <exercise_code.networks.loss.CrossEntropyFromLogits object at 0x7f539e99c190>}\n",
      "(Epoch 1 / 30) train loss: 2.302659; val loss: 2.302652\n",
      "(Epoch 2 / 30) train loss: 2.113015; val loss: 1.954174\n",
      "(Epoch 3 / 30) train loss: 1.871501; val loss: 1.846419\n",
      "(Epoch 4 / 30) train loss: 1.777085; val loss: 1.788972\n",
      "(Epoch 5 / 30) train loss: 1.710037; val loss: 1.745925\n",
      "(Epoch 6 / 30) train loss: 1.654062; val loss: 1.713746\n",
      "(Epoch 7 / 30) train loss: 1.601562; val loss: 1.682375\n",
      "(Epoch 8 / 30) train loss: 1.555931; val loss: 1.667604\n",
      "(Epoch 9 / 30) train loss: 1.513299; val loss: 1.657035\n",
      "(Epoch 10 / 30) train loss: 1.472808; val loss: 1.643284\n",
      "(Epoch 11 / 30) train loss: 1.437446; val loss: 1.641152\n",
      "(Epoch 12 / 30) train loss: 1.401750; val loss: 1.632319\n",
      "(Epoch 13 / 30) train loss: 1.365745; val loss: 1.630141\n",
      "(Epoch 14 / 30) train loss: 1.333806; val loss: 1.622770\n",
      "(Epoch 15 / 30) train loss: 1.302159; val loss: 1.622585\n",
      "(Epoch 16 / 30) train loss: 1.271412; val loss: 1.625255\n",
      "(Epoch 17 / 30) train loss: 1.240489; val loss: 1.626141\n",
      "(Epoch 18 / 30) train loss: 1.210230; val loss: 1.638326\n",
      "Stopping early at epoch 17!\n",
      "\n",
      "Evaluating Config #6 [of 10]:\n",
      " {'learning_rate': 2.8483928715444546e-05, 'reg': 1.6105478371421644e-06, 'loss_func': <exercise_code.networks.loss.CrossEntropyFromLogits object at 0x7f539e99c190>}\n",
      "(Epoch 1 / 30) train loss: 2.302581; val loss: 2.302581\n",
      "(Epoch 2 / 30) train loss: 2.292758; val loss: 2.271392\n",
      "(Epoch 3 / 30) train loss: 2.223571; val loss: 2.181362\n",
      "(Epoch 4 / 30) train loss: 2.140175; val loss: 2.116166\n",
      "(Epoch 5 / 30) train loss: 2.081192; val loss: 2.067206\n",
      "(Epoch 6 / 30) train loss: 2.035378; val loss: 2.027782\n",
      "(Epoch 7 / 30) train loss: 1.997097; val loss: 1.993736\n",
      "(Epoch 8 / 30) train loss: 1.964169; val loss: 1.965905\n",
      "(Epoch 9 / 30) train loss: 1.936868; val loss: 1.942396\n",
      "(Epoch 10 / 30) train loss: 1.911585; val loss: 1.923250\n",
      "(Epoch 11 / 30) train loss: 1.890518; val loss: 1.906063\n",
      "(Epoch 12 / 30) train loss: 1.873750; val loss: 1.891995\n",
      "(Epoch 13 / 30) train loss: 1.857670; val loss: 1.878867\n",
      "(Epoch 14 / 30) train loss: 1.841744; val loss: 1.866409\n",
      "(Epoch 15 / 30) train loss: 1.827381; val loss: 1.855585\n",
      "(Epoch 16 / 30) train loss: 1.814931; val loss: 1.845498\n",
      "(Epoch 17 / 30) train loss: 1.802439; val loss: 1.835953\n",
      "(Epoch 18 / 30) train loss: 1.791499; val loss: 1.826730\n",
      "(Epoch 19 / 30) train loss: 1.778360; val loss: 1.818509\n",
      "(Epoch 20 / 30) train loss: 1.769603; val loss: 1.811163\n",
      "(Epoch 21 / 30) train loss: 1.759525; val loss: 1.803894\n",
      "(Epoch 22 / 30) train loss: 1.750262; val loss: 1.797464\n",
      "(Epoch 23 / 30) train loss: 1.740535; val loss: 1.790524\n",
      "(Epoch 24 / 30) train loss: 1.734082; val loss: 1.784164\n",
      "(Epoch 25 / 30) train loss: 1.723710; val loss: 1.778217\n",
      "(Epoch 26 / 30) train loss: 1.715464; val loss: 1.772727\n",
      "(Epoch 27 / 30) train loss: 1.706919; val loss: 1.767261\n",
      "(Epoch 28 / 30) train loss: 1.700487; val loss: 1.760999\n",
      "(Epoch 29 / 30) train loss: 1.692780; val loss: 1.756685\n",
      "(Epoch 30 / 30) train loss: 1.685083; val loss: 1.752055\n",
      "\n",
      "Evaluating Config #7 [of 10]:\n",
      " {'learning_rate': 0.0036464555797175906, 'reg': 1.872023464290457e-05, 'loss_func': <exercise_code.networks.loss.CrossEntropyFromLogits object at 0x7f539e99c190>}\n"
     ]
    },
    {
     "name": "stdout",
     "output_type": "stream",
     "text": [
      "(Epoch 1 / 30) train loss: 2.302603; val loss: 2.302602\n",
      "(Epoch 2 / 30) train loss: 1.912446; val loss: 1.813345\n",
      "(Epoch 3 / 30) train loss: 1.715378; val loss: 1.890632\n",
      "(Epoch 4 / 30) train loss: 1.605225; val loss: 1.876813\n",
      "(Epoch 5 / 30) train loss: 1.470538; val loss: 1.904018\n",
      "Stopping early at epoch 4!\n",
      "\n",
      "Evaluating Config #8 [of 10]:\n",
      " {'learning_rate': 4.20131172895884e-05, 'reg': 0.0006021246707368135, 'loss_func': <exercise_code.networks.loss.CrossEntropyFromLogits object at 0x7f539e99c190>}\n",
      "(Epoch 1 / 30) train loss: 2.302765; val loss: 2.302765\n",
      "(Epoch 2 / 30) train loss: 2.284547; val loss: 2.242880\n",
      "(Epoch 3 / 30) train loss: 2.176657; val loss: 2.128254\n",
      "(Epoch 4 / 30) train loss: 2.077087; val loss: 2.052277\n",
      "(Epoch 5 / 30) train loss: 2.010581; val loss: 1.996974\n",
      "(Epoch 6 / 30) train loss: 1.959109; val loss: 1.955509\n",
      "(Epoch 7 / 30) train loss: 1.919451; val loss: 1.923702\n",
      "(Epoch 8 / 30) train loss: 1.889171; val loss: 1.901340\n",
      "(Epoch 9 / 30) train loss: 1.865890; val loss: 1.880616\n",
      "(Epoch 10 / 30) train loss: 1.840703; val loss: 1.864498\n",
      "(Epoch 11 / 30) train loss: 1.824309; val loss: 1.848116\n",
      "(Epoch 12 / 30) train loss: 1.806708; val loss: 1.836930\n",
      "(Epoch 13 / 30) train loss: 1.788394; val loss: 1.824472\n",
      "(Epoch 14 / 30) train loss: 1.776964; val loss: 1.813925\n",
      "(Epoch 15 / 30) train loss: 1.762110; val loss: 1.803733\n",
      "(Epoch 16 / 30) train loss: 1.750040; val loss: 1.794225\n",
      "(Epoch 17 / 30) train loss: 1.737656; val loss: 1.786809\n",
      "(Epoch 18 / 30) train loss: 1.726108; val loss: 1.779098\n",
      "(Epoch 19 / 30) train loss: 1.714349; val loss: 1.771607\n",
      "(Epoch 20 / 30) train loss: 1.706048; val loss: 1.765185\n",
      "(Epoch 21 / 30) train loss: 1.696730; val loss: 1.758958\n",
      "(Epoch 22 / 30) train loss: 1.687739; val loss: 1.752754\n",
      "(Epoch 23 / 30) train loss: 1.674962; val loss: 1.746817\n",
      "(Epoch 24 / 30) train loss: 1.666297; val loss: 1.741151\n",
      "(Epoch 25 / 30) train loss: 1.658605; val loss: 1.735747\n",
      "(Epoch 26 / 30) train loss: 1.648896; val loss: 1.731378\n",
      "(Epoch 27 / 30) train loss: 1.639556; val loss: 1.727331\n",
      "(Epoch 28 / 30) train loss: 1.631941; val loss: 1.721162\n",
      "(Epoch 29 / 30) train loss: 1.623342; val loss: 1.718331\n",
      "(Epoch 30 / 30) train loss: 1.613922; val loss: 1.712316\n",
      "\n",
      "Evaluating Config #9 [of 10]:\n",
      " {'learning_rate': 6.145725225151606e-06, 'reg': 0.0009985217133793155, 'loss_func': <exercise_code.networks.loss.CrossEntropyFromLogits object at 0x7f539e99c190>}\n",
      "(Epoch 1 / 30) train loss: 2.302879; val loss: 2.302873\n",
      "(Epoch 2 / 30) train loss: 2.302187; val loss: 2.301219\n",
      "(Epoch 3 / 30) train loss: 2.299095; val loss: 2.296281\n",
      "(Epoch 4 / 30) train loss: 2.291373; val loss: 2.285922\n",
      "(Epoch 5 / 30) train loss: 2.277468; val loss: 2.269388\n",
      "(Epoch 6 / 30) train loss: 2.257927; val loss: 2.248962\n",
      "(Epoch 7 / 30) train loss: 2.235669; val loss: 2.227542\n",
      "(Epoch 8 / 30) train loss: 2.213034; val loss: 2.207165\n",
      "(Epoch 9 / 30) train loss: 2.192873; val loss: 2.189042\n",
      "(Epoch 10 / 30) train loss: 2.174902; val loss: 2.173047\n",
      "(Epoch 11 / 30) train loss: 2.159369; val loss: 2.158521\n",
      "(Epoch 12 / 30) train loss: 2.144317; val loss: 2.146391\n",
      "(Epoch 13 / 30) train loss: 2.131475; val loss: 2.134041\n",
      "(Epoch 14 / 30) train loss: 2.119391; val loss: 2.122799\n",
      "(Epoch 15 / 30) train loss: 2.108442; val loss: 2.112167\n",
      "(Epoch 16 / 30) train loss: 2.097819; val loss: 2.102499\n",
      "(Epoch 17 / 30) train loss: 2.086653; val loss: 2.092904\n",
      "(Epoch 18 / 30) train loss: 2.076684; val loss: 2.083648\n",
      "(Epoch 19 / 30) train loss: 2.067377; val loss: 2.075258\n",
      "(Epoch 20 / 30) train loss: 2.058430; val loss: 2.066904\n",
      "(Epoch 21 / 30) train loss: 2.049938; val loss: 2.058294\n",
      "(Epoch 22 / 30) train loss: 2.042487; val loss: 2.051015\n",
      "(Epoch 23 / 30) train loss: 2.032898; val loss: 2.043577\n",
      "(Epoch 24 / 30) train loss: 2.025511; val loss: 2.035705\n",
      "(Epoch 25 / 30) train loss: 2.017370; val loss: 2.029168\n",
      "(Epoch 26 / 30) train loss: 2.010884; val loss: 2.022142\n",
      "(Epoch 27 / 30) train loss: 2.002840; val loss: 2.015878\n",
      "(Epoch 28 / 30) train loss: 1.997362; val loss: 2.009503\n",
      "(Epoch 29 / 30) train loss: 1.988907; val loss: 2.002830\n",
      "(Epoch 30 / 30) train loss: 1.982821; val loss: 1.996716\n",
      "\n",
      "Evaluating Config #10 [of 10]:\n",
      " {'learning_rate': 0.006209564456039001, 'reg': 3.1612610168578874e-06, 'loss_func': <exercise_code.networks.loss.CrossEntropyFromLogits object at 0x7f539e99c190>}\n",
      "(Epoch 1 / 30) train loss: 2.302567; val loss: 2.302572\n",
      "(Epoch 2 / 30) train loss: 2.044128; val loss: 1.942311\n",
      "(Epoch 3 / 30) train loss: 1.840207; val loss: 1.869879\n",
      "(Epoch 4 / 30) train loss: 1.733740; val loss: 2.043387\n",
      "(Epoch 5 / 30) train loss: 1.637411; val loss: 2.140537\n",
      "(Epoch 6 / 30) train loss: 1.643511; val loss: 2.140674\n",
      "Stopping early at epoch 5!\n",
      "\n",
      "Search done. Best Val Loss = 1.6225845471422264\n",
      "Best Config: {'learning_rate': 0.0002597052504637227, 'reg': 9.474932663082846e-05, 'loss_func': <exercise_code.networks.loss.CrossEntropyFromLogits object at 0x7f539e99c190>}\n"
     ]
    }
   ],
   "source": [
    "from exercise_code.hyperparameter_tuning import random_search\n",
    "from exercise_code.networks import MyOwnNetwork\n",
    "\n",
    "overfit_dataset = ImageFolderDataset(\n",
    "    mode='train',\n",
    "    root=cifar_root, \n",
    "    download_url=download_url,\n",
    "    transform=compose_transform,\n",
    "    limit_files=8000\n",
    ")\n",
    "dataloaders['train_small'] = DataLoader(\n",
    "    dataset=overfit_dataset,\n",
    "    batch_size=128,\n",
    "    shuffle=True,\n",
    "    drop_last=False,\n",
    ")\n",
    "# Specify the used network\n",
    "model_class = MyOwnNetwork\n",
    "\n",
    "best_model, results = random_search(\n",
    "    dataloaders['train_small'], dataloaders['val'],\n",
    "    random_search_spaces = {\n",
    "        \"learning_rate\": ([1e-2, 1e-6], 'log'),\n",
    "        \"reg\": ([1e-3, 1e-7], \"log\"),\n",
    "        \"loss_func\": ([CrossEntropyFromLogits()], \"item\")\n",
    "    },\n",
    "    model_class=model_class,\n",
    "    num_search = 10, epochs=30, patience=3)\n",
    "\n"
   ]
  },
  {
   "cell_type": "code",
   "execution_count": 36,
   "metadata": {},
   "outputs": [
    {
     "data": {
      "image/png": "[encoded data removed]",
      "text/plain": [
       "<Figure size 432x288 with 1 Axes>"
      ]
     },
     "metadata": {
      "needs_background": "light"
     },
     "output_type": "display_data"
    },
    {
     "name": "stdout",
     "output_type": "stream",
     "text": [
      "Training accuray: 0.42229\n",
      "Validation accuray: 0.39093\n"
     ]
    }
   ],
   "source": [
    "plt.title('Loss curves')\n",
    "plt.plot(solver.train_loss_history, '-', label='train')\n",
    "plt.plot(solver.val_loss_history, '-', label='val')\n",
    "plt.legend(loc='lower right')\n",
    "plt.xlabel('Iteration')\n",
    "plt.show()\n",
    "print(\"Training accuray: %.5f\" % (solver.get_dataset_accuracy(dataloaders['train_small'])))\n",
    "print(\"Validation accuray: %.5f\" % (solver.get_dataset_accuracy(dataloaders['val'])))"
   ]
  },
  {
   "cell_type": "markdown",
   "metadata": {},
   "source": [
    "If your implementation works, then it's time to run it with the whole dataset, and let it search for a few hours for a nice configuration. \n",
    "\n",
    "However, to save some time, let's first implement an **early-stopping** mechanism, that you also already know from the lecture."
   ]
  },
  {
   "cell_type": "markdown",
   "metadata": {},
   "source": [
    "## Early Stopping"
   ]
  },
  {
   "cell_type": "markdown",
   "metadata": {},
   "source": [
    "By now you've already seen a lot of training curves:\n",
    "\n",
    "<img src=http://fouryears.eu/wp-content/uploads/2017/12/early_stopping.png></img>\n",
    "\n",
    "Usually, at some point the validation loss goes up again, which is a sign that we're overfitting to our training data. Since it actually doesn't make any sense to train further at this point, it's common practice to apply \"early stopping\", i.e., cancel the training process when the validation loss doesn't improve anymore. The nice thing about this concept is, that not only it improves generalization through the prevention of overfitting, but also it saves us a lot of time - one of our most valuable resources in deep learning.\n",
    "\n",
    "Since there are natural fluctuations in the validation loss, you usually don't cancel the training process right at the first epoch when the validation-loss increases, but instead, you wait for some epochs (specified by the `patience`-parameter) and if the loss still doesn't improve, we stop.\n",
    "\n",
    "Now, take a look at the implement of early stopping mechanism in the `solver.py` file."
   ]
  },
  {
   "cell_type": "markdown",
   "metadata": {},
   "source": [
    "## Let's find the perfect model!"
   ]
  },
  {
   "cell_type": "markdown",
   "metadata": {},
   "source": [
    "You've now set everything up to start training your model and finding a nice set of hyper parameters using a combination of grid or random search!\n",
    "\n",
    "Since we'll now be training with a much larger number of samples, you should be aware that this process will definitely take some time! So be prepared to let your machine run for a while. \n",
    "\n",
    "At the beginning, it's a good approach to first do a coarse random search across a wide range of values to find promising sub-ranges of your parameter space. Afterwards, you can zoom in to these ranges and do another random search (or grid search) to finetune the configuration.\n",
    "\n",
    "You don't have to use the whole dataset at the beginning, instead you can also use a medium large subset of the samples. Also, you don't need to train for a large number of epochs - as mentioned above: we first want to get an overview about our hyper parameters.\n",
    "\n",
    "**Task: put in some reasonable ranges for the hyperparameters and evaluate them using random search!**\n",
    "\n",
    "Finally, once you've found some good hyper parameters, train on the whole dataset for a large number of epochs and make sure you use the full training data!"
   ]
  },
  {
   "cell_type": "code",
   "execution_count": 5,
   "metadata": {},
   "outputs": [
    {
     "name": "stdout",
     "output_type": "stream",
     "text": [
      "(Epoch 1 / 20) train loss: 2.302636; val loss: 2.302636\n",
      "(Epoch 2 / 20) train loss: 1.984470; val loss: 1.810907\n",
      "(Epoch 3 / 20) train loss: 1.728041; val loss: 1.695057\n",
      "(Epoch 4 / 20) train loss: 1.630812; val loss: 1.628815\n",
      "(Epoch 5 / 20) train loss: 1.563990; val loss: 1.591968\n",
      "(Epoch 6 / 20) train loss: 1.515069; val loss: 1.562515\n",
      "(Epoch 7 / 20) train loss: 1.477348; val loss: 1.550480\n",
      "(Epoch 8 / 20) train loss: 1.443113; val loss: 1.528127\n",
      "(Epoch 9 / 20) train loss: 1.413637; val loss: 1.512106\n",
      "(Epoch 10 / 20) train loss: 1.384193; val loss: 1.508447\n",
      "(Epoch 11 / 20) train loss: 1.359108; val loss: 1.501873\n",
      "(Epoch 12 / 20) train loss: 1.333671; val loss: 1.489411\n",
      "(Epoch 13 / 20) train loss: 1.312053; val loss: 1.480945\n",
      "(Epoch 14 / 20) train loss: 1.289985; val loss: 1.477233\n",
      "(Epoch 15 / 20) train loss: 1.267315; val loss: 1.473409\n",
      "(Epoch 16 / 20) train loss: 1.246021; val loss: 1.470421\n",
      "(Epoch 17 / 20) train loss: 1.228922; val loss: 1.461776\n",
      "(Epoch 18 / 20) train loss: 1.207695; val loss: 1.470696\n",
      "(Epoch 19 / 20) train loss: 1.191746; val loss: 1.469324\n",
      "(Epoch 20 / 20) train loss: 1.173375; val loss: 1.466542\n"
     ]
    }
   ],
   "source": [
    "from exercise_code.networks import MyOwnNetwork\n",
    "\n",
    "\n",
    "\n",
    "\n",
    "from exercise_code.solver import Solver\n",
    "from exercise_code.networks.optimizer import SGD, Adam\n",
    "from exercise_code.networks import MyOwnNetwork\n",
    "\n",
    "num_layer = 2\n",
    "epochs = 20\n",
    "reg = 9.474932663082846e-05 #0.00019401740205783293*100\n",
    "batch_size = 256\n",
    "\n",
    "#model = ClassificationNet(num_layer=num_layer, reg=reg)\n",
    "model = MyOwnNetwork(reg=reg,batch_size=batch_size,epochs=epochs,activation=Relu())\n",
    "\n",
    "loss = CrossEntropyFromLogits()\n",
    "\n",
    "# Make a new data loader with a single training image\n",
    "overfit_dataset = ImageFolderDataset(\n",
    "    mode='train',\n",
    "    root=cifar_root, \n",
    "    download_url=download_url,\n",
    "    transform=compose_transform,\n",
    "    limit_files=10000\n",
    ")\n",
    "dataloaders['train_overfit_single_image'] = DataLoader(\n",
    "    dataset=overfit_dataset,\n",
    "    batch_size=batch_size,\n",
    "    shuffle=True,\n",
    "    drop_last=False,\n",
    ")\n",
    "\n",
    "\n",
    "\n",
    "solver = Solver(model, dataloaders['train'], dataloaders['val'], \n",
    "                learning_rate= 0.0002597052504637227, loss_func=loss, optimizer=Adam)\n",
    "\n",
    "solver.train(epochs=epochs)\n",
    "#best_model = MyOwnNetwork()\n",
    "\n",
    "########################################################################\n",
    "# TODO:                                                                #\n",
    "# Implement your own neural network and find suitable hyperparameters  #\n",
    "# Be sure to edit the MyOwnNetwork class in the following code snippet #\n",
    "# to upload the correct model!                                         #\n",
    "########################################################################\n",
    "\n",
    "pass\n",
    "\n",
    "########################################################################\n",
    "#                           END OF YOUR CODE                           #\n",
    "########################################################################"
   ]
  },
  {
   "cell_type": "code",
   "execution_count": 6,
   "metadata": {},
   "outputs": [
    {
     "data": {
      "image/png": "[encoded data removed]",
      "text/plain": [
       "<Figure size 432x288 with 1 Axes>"
      ]
     },
     "metadata": {
      "needs_background": "light"
     },
     "output_type": "display_data"
    }
   ],
   "source": [
    "plt.title('Loss curves')\n",
    "plt.plot(solver.train_loss_history, '-', label='train')\n",
    "plt.plot(solver.val_loss_history, '-', label='val')\n",
    "plt.legend(loc='lower right')\n",
    "plt.xlabel('Iteration')\n",
    "plt.show()\n",
    "\n",
    "#print(\"Training accuray: %.5f\" % (solver.get_dataset_accuracy(dataloaders['train'])))\n",
    "#print(\"Validation accuray: %.5f\" % (solver.get_dataset_accuracy(dataloaders['val'])))"
   ]
  },
  {
   "cell_type": "markdown",
   "metadata": {},
   "source": [
    "Now it's time to edit the ranges above and adjust them to explore regions that performed well!\n",
    "\n",
    "Also, feel free to experiment around! Also the network architecture, optimizer options and activations functions, etc. are hyperparameters that you can change!\n",
    "\n",
    "Try to get your accuracy as high as possible! That's all what counts for this submission!\n",
    "\n",
    "You'll pass if you reach at least **48%** accuracy on our test set - but there will also be a leaderboard of all students of this course. Will you make it to the top?"
   ]
  },
  {
   "cell_type": "markdown",
   "metadata": {},
   "source": [
    "## Checking the validation accuracy"
   ]
  },
  {
   "cell_type": "code",
   "execution_count": null,
   "metadata": {},
   "outputs": [],
   "source": [
    "labels, pred, acc = model.get_dataset_prediction(dataloaders['train'])\n",
    "print(\"Train Accuracy: {}%\".format(acc*100))\n",
    "labels, pred, acc = model.get_dataset_prediction(dataloaders['val'])\n",
    "print(\"Validation Accuracy: {}%\".format(acc*100))"
   ]
  },
  {
   "cell_type": "markdown",
   "metadata": {},
   "source": [
    "# Test your model\n",
    "When you have finished your hyperparameter tuning and are sure you have your final model that performs well on the validation set (**you should at least get 48% accuracy on the validation set!**), it's time to run your  model on the test set.\n",
    "\n",
    "<div class=\"alert alert-danger\">\n",
    "    <h3>Important</h3>\n",
    "    <p>As you have learned in the lecture, you must only use the test set one single time! So only run the next cell if you are really sure your model works well enough and that you want to submit. Your test set is different from the test set on our server, so results may vary. Nevertheless, you will have a reasonable close approximation about your performance if you only do a final evaluation on the test set.</p>\n",
    "    <p>If you are an external student that can't use our submission webpage: this test performance is your final result and if you surpassed the threshold, you have completed this exercise :). Now, train again to aim for a better number!</p>\n",
    "</div>"
   ]
  },
  {
   "cell_type": "code",
   "execution_count": 65,
   "metadata": {},
   "outputs": [
    {
     "name": "stdout",
     "output_type": "stream",
     "text": [
      "Test Accuracy: 49.75961538461539%\n"
     ]
    }
   ],
   "source": [
    "# comment this part out to see your model's performance on the test set.\n",
    "\n",
    "labels, pred, acc = model.get_dataset_prediction(dataloaders['test'])\n",
    "print(\"Test Accuracy: {}%\".format(acc*100))\n"
   ]
  },
  {
   "cell_type": "markdown",
   "metadata": {},
   "source": [
    "Note: The \"real\" test set is actually the dataset we're using for testing your model, which is **different** from the test-set you're using here. "
   ]
  },
  {
   "cell_type": "markdown",
   "metadata": {},
   "source": [
    "# Saving your Model"
   ]
  },
  {
   "cell_type": "code",
   "execution_count": 1,
   "metadata": {},
   "outputs": [
    {
     "ename": "NameError",
     "evalue": "name 'model' is not defined",
     "output_type": "error",
     "traceback": [
      "\u001b[0;31m---------------------------------------------------------------------------\u001b[0m",
      "\u001b[0;31mNameError\u001b[0m                                 Traceback (most recent call last)",
      "\u001b[0;32m<ipython-input-1-98d2bd7c5362>\u001b[0m in \u001b[0;36m<module>\u001b[0;34m\u001b[0m\n\u001b[1;32m      1\u001b[0m \u001b[0;32mfrom\u001b[0m \u001b[0mexercise_code\u001b[0m\u001b[0;34m.\u001b[0m\u001b[0mtests\u001b[0m \u001b[0;32mimport\u001b[0m \u001b[0msave_pickle\u001b[0m\u001b[0;34m\u001b[0m\u001b[0;34m\u001b[0m\u001b[0m\n\u001b[0;32m----> 2\u001b[0;31m \u001b[0msave_pickle\u001b[0m\u001b[0;34m(\u001b[0m\u001b[0;34m{\u001b[0m\u001b[0;34m\"cifar_fcn\"\u001b[0m\u001b[0;34m:\u001b[0m \u001b[0mmodel\u001b[0m\u001b[0;34m}\u001b[0m\u001b[0;34m,\u001b[0m \u001b[0;34m\"cifar_fcn.p\"\u001b[0m\u001b[0;34m)\u001b[0m\u001b[0;34m\u001b[0m\u001b[0;34m\u001b[0m\u001b[0m\n\u001b[0m",
      "\u001b[0;31mNameError\u001b[0m: name 'model' is not defined"
     ]
    }
   ],
   "source": [
    "from exercise_code.tests import save_pickle\n",
    "save_pickle({\"cifar_fcn\": model}, \"cifar_fcn.p\")"
   ]
  },
  {
   "cell_type": "markdown",
   "metadata": {},
   "source": [
    "# Submission Instructions\n",
    "\n",
    "Congratulations! You've just built your first image classifier! To complete the exercise, submit your final model to our submission portal - you probably know the procedure by now.\n",
    "\n",
    "1. Go on [our submission page](https://dvl.in.tum.de/teaching/submission/), register for an account and login. We use your matriculation number and send an email with the login details to the mail account associated. When in doubt, login into tum online and check your mails there. You will get an id which we need in the next step.\n",
    "2. Navigate to `exercise_code` directory and run the `create_submission.sh` file to create the zip file of your model. This will create a single `zip` file that you need to upload. Otherwise, you can also zip it manually if you don't want to use the bash script.\n",
    "3. Log into [our submission page](https://dvl.in.tum.de/teaching/submission/) with your account details and upload the `zip` file. Once successfully uploaded, you should be able to see the submitted \"dummy_model.p\" file selectable on the top.\n",
    "4. Click on this file and run the submission script. You will get an email with your score as well as a message if you have surpassed the threshold.\n",
    "\n",
    "# Submission Goals\n",
    "\n",
    "- Goal: Successfully implement a fully connected NN image classifier, tune hyperparameters.\n",
    "\n",
    "- Passing Criteria: This time, there are no unit tests that check specific components of your code. The only thing that's required to pass the submission, is your model to reach at least **48% accuracy** on __our__ test dataset. The submission system will show you a number between 0 and 100 which corresponds to your accuracy.\n",
    "\n",
    "- Submission start: __May 28, 2020 12.00__\n",
    "- Submission deadline : __June 03, 2020 23.59__ \n",
    "- You can make **$\\infty$** submissions until the deadline. Your __best submission__ will be considered for bonus"
   ]
  }
 ],
 "metadata": {
  "kernelspec": {
   "display_name": "Python 3",
   "language": "python",
   "name": "python3"
  },
  "language_info": {
   "codemirror_mode": {
    "name": "ipython",
    "version": 3
   },
   "file_extension": ".py",
   "mimetype": "text/x-python",
   "name": "python",
   "nbconvert_exporter": "python",
   "pygments_lexer": "ipython3",
   "version": "3.7.7"
  }
 },
 "nbformat": 4,
 "nbformat_minor": 1
}
