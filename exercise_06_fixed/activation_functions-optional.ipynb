{
 "cells": [
  {
   "cell_type": "markdown",
   "metadata": {},
   "source": [
    "# Optional: Different Actication Functions\n",
    "\n",
    "It is __optional__ but recommended for you to implement these activation functions in ```exercise_code/networks/layer.py```, both forward and backward pass, as a choice of hyperparameter. \n",
    "\n",
    "__Note__: We provide you with the sigmoid activation function for your convenience, which you've already worked with in previous exercises. "
   ]
  },
  {
   "cell_type": "markdown",
   "metadata": {},
   "source": [
    "Recall that activation functions introduce more non-linearity to the network. Here we introduce several kinds of activation functions:\n",
    "\n",
    "* Sigmoid\n",
    "\n",
    "$$Sigmoid(x) = \\frac{1}{1 + exp(-x)}$$\n",
    "\n",
    "<img src=https://pytorch.org/docs/stable/_images/Sigmoid.png alt=\"Figure4\" width=\"400\"/>\n",
    "\n",
    "* ReLU\n",
    "\n",
    "$$ReLU(x) = max(0, x)$$\n",
    "\n",
    "<img src=https://pytorch.org/docs/stable/_images/ReLU.png alt=\"Figure2\" width=\"400\"/>\n",
    "\n",
    "* Leaky ReLU\n",
    "\n",
    "$$LeakyReLU(x) = max(0.01x, x)$$\n",
    "\n",
    "<img src=https://pytorch.org/docs/stable/_images/LeakyReLU.png alt=\"Figure3\" width=\"400\"/>\n",
    "\n",
    "* Tanh\n",
    "\n",
    "$$Tanh(x) = \\frac{exp(x) - exp(-x)}{exp(x) + exp(-x)}$$\n",
    "\n",
    "<img src=https://pytorch.org/docs/stable/_images/Tanh.png alt=\"Figure3\" width=\"400\"/>"
   ]
  },
  {
   "cell_type": "code",
   "execution_count": 13,
   "metadata": {},
   "outputs": [
    {
     "name": "stdout",
     "output_type": "stream",
     "text": [
      "The autoreload extension is already loaded. To reload it, use:\n",
      "  %reload_ext autoreload\n",
      "[[0 6 2 0]]\n"
     ]
    }
   ],
   "source": [
    "%load_ext autoreload\n",
    "%autoreload 2\n",
    "import numpy as np\n",
    "x=np.array([[-1,23,1,-6]])\n",
    "dout=np.array([[5,6,2,1]])\n",
    "print(dout*(x>0))\n"
   ]
  },
  {
   "cell_type": "code",
   "execution_count": 3,
   "metadata": {},
   "outputs": [
    {
     "name": "stdout",
     "output_type": "stream",
     "text": [
      "ReluForwardTest passed.\n",
      "ReluBackwardTest passed.\n",
      "Congratulations you have passed all the unit tests!!! Tests passed: 2/2\n",
      "(0, 2)\n",
      "\n",
      "LeakyReluForwardTest failed due to exception: unsupported operand type(s) for -: 'NoneType' and 'float'.\n",
      "LeakyReluBackwardTest failed due to exception: unsupported operand type(s) for -: 'float' and 'NoneType'.\n",
      "Test cases are still failing! Tests passed: 0/2\n",
      "(2, 2)\n",
      "\n",
      "TanhForwardTest failed due to exception: unsupported operand type(s) for -: 'NoneType' and 'float'.\n",
      "TanhBackwardTest failed due to exception: 'NoneType' object has no attribute 'copy'.\n",
      "Test cases are still failing! Tests passed: 0/2\n",
      "(2, 2)\n"
     ]
    }
   ],
   "source": [
    "from exercise_code.tests.layer_tests import *\n",
    "\n",
    "print(ReluTest()())\n",
    "print()\n",
    "print(LeakyReluTest()())\n",
    "print()\n",
    "print(TanhTest()())"
   ]
  },
  {
   "cell_type": "markdown",
   "metadata": {},
   "source": [
    "__Hint__:\n",
    "\n",
    "If you have implemented the extra activation functions, please run the following cell to check whether you have did it the right way. \n",
    "\n",
    "Otherwise just skip the cell."
   ]
  }
 ],
 "metadata": {
  "kernelspec": {
   "display_name": "Python 3",
   "language": "python",
   "name": "python3"
  },
  "language_info": {
   "codemirror_mode": {
    "name": "ipython",
    "version": 3
   },
   "file_extension": ".py",
   "mimetype": "text/x-python",
   "name": "python",
   "nbconvert_exporter": "python",
   "pygments_lexer": "ipython3",
   "version": "3.7.7"
  }
 },
 "nbformat": 4,
 "nbformat_minor": 4
}
